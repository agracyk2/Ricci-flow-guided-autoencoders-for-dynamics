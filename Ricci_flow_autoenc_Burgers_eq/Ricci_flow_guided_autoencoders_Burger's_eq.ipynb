{
  "nbformat": 4,
  "nbformat_minor": 0,
  "metadata": {
    "colab": {
      "provenance": [],
      "gpuType": "T4"
    },
    "kernelspec": {
      "name": "python3",
      "display_name": "Python 3"
    },
    "language_info": {
      "name": "python"
    },
    "accelerator": "GPU"
  },
  "cells": [
    {
      "cell_type": "code",
      "execution_count": 1,
      "metadata": {
        "id": "Joq1dMmlInGQ"
      },
      "outputs": [],
      "source": [
        "import numpy as np\n",
        "from numpy.random import choice\n",
        "\n",
        "import torch\n",
        "import torch.nn as nn\n",
        "import torch.optim as optim\n",
        "from torch.autograd import Variable\n",
        "from torch.nn import functional as F\n",
        "from torch.autograd.functional import jacobian\n",
        "from functorch import jacrev, jacfwd\n",
        "\n",
        "import math\n",
        "\n",
        "import matplotlib.pyplot as plt\n",
        "from matplotlib.colors import LinearSegmentedColormap\n",
        "\n",
        "import seaborn as sns\n",
        "\n",
        "device = torch.device(\"cuda:0\" if torch.cuda.is_available() else \"cpu\")"
      ]
    },
    {
      "cell_type": "code",
      "source": [
        "# Load in Burger's equation data\n",
        "\n",
        "File = \"Burgers_training_and_test.pth.npy\"\n",
        "Burgers_data = np.load(File)"
      ],
      "metadata": {
        "id": "4WMjDwbnIusm"
      },
      "execution_count": 176,
      "outputs": []
    },
    {
      "cell_type": "code",
      "source": [
        "# Prepare data for training\n",
        "\n",
        "num_test = 300\n",
        "num_samples = np.size(Burgers_data,0) - num_test\n",
        "\n",
        "N_x = 100 # mesh size\n",
        "\n",
        "# Prepre temporal mesh\n",
        "Lt = 1.0\n",
        "dt = 0.01\n",
        "N_t = int(Lt/dt)\n",
        "T = np.linspace(0,Lt,N_t)\n",
        "\n",
        "# Declare data structures to store data\n",
        "u = torch.zeros(size=(N_x*num_samples,N_x))\n",
        "v = torch.zeros(size=(N_x*num_samples,N_x))\n",
        "t = torch.zeros(size=(N_x*num_samples,1))\n",
        "\n",
        "for num in range(num_samples):\n",
        "  u_i = Burgers_data[num,:,:]\n",
        "  time_indices = np.random.randint(0, T.size, N_x)   # Randomly sample a time index\n",
        "  u[num*N_x:(num+1)*N_x,0:N_x] = torch.from_numpy(u_i[:,0])  # Store initial condition\n",
        "  t[num*N_x:(num+1)*N_x,0] = torch.from_numpy(T[time_indices])  # Store time for solution\n",
        "  v[num*N_x:(num+1)*N_x,0:N_x] = torch.from_numpy(np.transpose(u_i[:,time_indices]))  # Store solution at said time\n"
      ],
      "metadata": {
        "id": "KiUVNxLtIuwX"
      },
      "execution_count": 196,
      "outputs": []
    },
    {
      "cell_type": "code",
      "source": [
        "# Convert data to appropriate structures and save to device\n",
        "\n",
        "U = u.type(torch.float32).to(device)\n",
        "V = v.type(torch.float32).to(device)\n",
        "times = t.type(torch.float32).to(device)\n",
        "\n",
        "\n",
        "# Sample times uniformly for physics-informed training in a collocation procedure\n",
        "\n",
        "times_unif = np.random.uniform(0,Lt,size=(U.size(dim=0),1))\n",
        "times_unif[0:num_samples] = 0  # Ensure sufficient sampling at the initial boundary (optional)\n",
        "times_unif = torch.tensor(times_unif, requires_grad=True).type(torch.float32).to(device)"
      ],
      "metadata": {
        "id": "QMV04y-RIuz1"
      },
      "execution_count": 178,
      "outputs": []
    },
    {
      "cell_type": "code",
      "source": [
        "w = 120 # Width of neural networks\n",
        "\n",
        "# Neural network mapping to parameterization domain\n",
        "class parameterization_NN(nn.Module):\n",
        "    def __init__(self):\n",
        "        super(parameterization_NN, self).__init__()\n",
        "        self.hidden_layer1 = nn.Linear(N_x,w,bias=True)\n",
        "        self.hidden_layer2 = nn.Linear(w,w, bias=True); self.hidden_layer3 = nn.Linear(w,w, bias=True)\n",
        "        self.output_layer = nn.Linear(w,2, bias=True)\n",
        "\n",
        "    def forward(self, X):\n",
        "        inputs = X #torch.cat((x,mu,t,a),1)\n",
        "        layer1_out = F.gelu(self.hidden_layer1(inputs)); layer2_out = F.gelu(self.hidden_layer2(layer1_out))\n",
        "        layer3_out = F.gelu(self.hidden_layer3(layer2_out))\n",
        "        output = self.output_layer(layer3_out)\n",
        "        return output"
      ],
      "metadata": {
        "id": "SkYExz6HIu3A"
      },
      "execution_count": 179,
      "outputs": []
    },
    {
      "cell_type": "code",
      "source": [
        "# Neural network for metric\n",
        "class g_NN(nn.Module):\n",
        "    def __init__(self):\n",
        "        super(g_NN, self).__init__()\n",
        "        self.hidden_layer1 = nn.Linear(3,w,bias=True)\n",
        "        self.hidden_layer2 = nn.Linear(w,w, bias=True); self.hidden_layer3 = nn.Linear(w,w, bias=True)\n",
        "        self.output_layer = nn.Linear(w,4, bias=True)\n",
        "\n",
        "    def forward(self, uv, t):\n",
        "        inputs = torch.cat((uv,t),1)\n",
        "        layer1_out = F.gelu(self.hidden_layer1(inputs)); layer2_out = F.gelu(self.hidden_layer2(layer1_out))\n",
        "        layer3_out = F.gelu(self.hidden_layer3(layer2_out))\n",
        "        output = self.output_layer(layer3_out)\n",
        "        output = torch.reshape(output, (inputs.size(dim=0),2,2))\n",
        "        return output"
      ],
      "metadata": {
        "id": "OtAS-iDEIu6S"
      },
      "execution_count": 180,
      "outputs": []
    },
    {
      "cell_type": "code",
      "source": [
        "# Encoder network. This is the one that maps to the manifold\n",
        "class encoder_NN(nn.Module):\n",
        "    def __init__(self):\n",
        "        super(encoder_NN, self).__init__()\n",
        "        self.hidden_layer1 = nn.Linear(3,w,bias=True)\n",
        "        self.hidden_layer2 = nn.Linear(w,w, bias=True); self.hidden_layer3 = nn.Linear(w,w, bias=True)\n",
        "        self.output_layer = nn.Linear(w,3, bias=True)\n",
        "\n",
        "    def forward(self, uv, tau):\n",
        "        inputs = torch.cat((uv, tau),1)\n",
        "        layer1_out = F.gelu(self.hidden_layer1(inputs)); layer2_out = F.gelu(self.hidden_layer2(layer1_out))\n",
        "        layer3_out = F.gelu(self.hidden_layer3(layer2_out))\n",
        "        output = self.output_layer(layer3_out)\n",
        "        return output\n",
        "\n",
        "# Decoder network. Maps from manifold to solution\n",
        "class decoder_NN(nn.Module):\n",
        "    def __init__(self):\n",
        "        super(decoder_NN, self).__init__()\n",
        "        self.hidden_layer1 = nn.Linear(3,w,bias=True)\n",
        "        self.hidden_layer2 = nn.Linear(w,w, bias=True); self.hidden_layer3 = nn.Linear(w,w, bias=True)\n",
        "        self.output_layer = nn.Linear(w,N_x, bias=True)\n",
        "\n",
        "    def forward(self, xyz):\n",
        "        inputs = xyz\n",
        "        layer1_out = F.tanh(self.hidden_layer1(inputs)); layer2_out = F.tanh(self.hidden_layer2(layer1_out))\n",
        "        layer3_out = F.tanh(self.hidden_layer3(layer2_out))\n",
        "        output = self.output_layer(layer3_out)\n",
        "        return output"
      ],
      "metadata": {
        "id": "fvehohMRIu9U"
      },
      "execution_count": 181,
      "outputs": []
    },
    {
      "cell_type": "code",
      "source": [
        "# Declare networks\n",
        "\n",
        "parameterization = parameterization_NN().to(device)\n",
        "g = g_NN().to(device)\n",
        "encoder = encoder_NN().to(device)\n",
        "decoder = decoder_NN().to(device)"
      ],
      "metadata": {
        "id": "oY4wlSbrIvAi"
      },
      "execution_count": 182,
      "outputs": []
    },
    {
      "cell_type": "code",
      "source": [
        "# Set Adam optimizer\n",
        "\n",
        "optimizer = optim.Adam([\n",
        "    {'params': parameterization.parameters()},\n",
        "    {'params': g.parameters()},\n",
        "    {'params': encoder.parameters()},\n",
        "    {'params': decoder.parameters()}\n",
        "], lr=2e-4, weight_decay=1e-7)\n",
        "\n",
        "# Modify the learning rate as appropriate. We do not use an automatically-adjusted learning rate, but feel free to modify code if you'd like to do so"
      ],
      "metadata": {
        "id": "miLc4S9oIvEW"
      },
      "execution_count": 183,
      "outputs": []
    },
    {
      "cell_type": "code",
      "source": [
        "# Load in pre-trained neural networks from current directory\n",
        "# This is if pre-trained parameters are being used\n",
        "\n",
        "File = \"parameterization.pth\"\n",
        "parameterization.load_state_dict(torch.load(File))\n",
        "\n",
        "File = \"g.pth\"\n",
        "g.load_state_dict(torch.load(File))\n",
        "\n",
        "File = \"encoder.pth\"\n",
        "encoder.load_state_dict(torch.load(File))\n",
        "\n",
        "File = \"decoder.pth\"\n",
        "decoder.load_state_dict(torch.load(File))"
      ],
      "metadata": {
        "colab": {
          "base_uri": "https://localhost:8080/"
        },
        "id": "2-mnNQt0IvHe",
        "outputId": "cabec7b3-d4e2-40fa-8ec4-b1dc23932acc"
      },
      "execution_count": 200,
      "outputs": [
        {
          "output_type": "execute_result",
          "data": {
            "text/plain": [
              "<All keys matched successfully>"
            ]
          },
          "metadata": {},
          "execution_count": 200
        }
      ]
    },
    {
      "cell_type": "code",
      "source": [],
      "metadata": {
        "id": "emdSu6ZQIvLD"
      },
      "execution_count": null,
      "outputs": []
    },
    {
      "cell_type": "code",
      "source": [
        "# Create function to get metric coefficients of the encoder neural network (not g)\n",
        "def metric_of_encoder(encoder, uv, tau):\n",
        "\n",
        "  encoder_uv = torch.zeros(size=(N,3,2)).to(device)\n",
        "  encoded_rep = encoder(uv, tau)\n",
        "  for col in range(encoder_uv.size(dim=1)):\n",
        "    encoder_uv[:,col,:] = torch.autograd.grad(encoded_rep[:,col].sum(), uv, create_graph=True)[0]\n",
        "\n",
        "  g_11 = torch.sum( torch.squeeze(encoder_uv[:,:,0]) * torch.squeeze(encoder_uv[:,:,0]), dim=1)\n",
        "  g_12 = g_21 = torch.sum( torch.squeeze(encoder_uv[:,:,0]) * torch.squeeze(encoder_uv[:,:,1]), dim=1)\n",
        "  g_22 = torch.sum( torch.squeeze(encoder_uv[:,:,1]) * torch.squeeze(encoder_uv[:,:,1]), dim=1)\n",
        "\n",
        "  return torch.reshape(torch.column_stack((g_11, g_12, g_21, g_22)), (N,2,2))"
      ],
      "metadata": {
        "id": "_KnBG223IvOh"
      },
      "execution_count": 184,
      "outputs": []
    },
    {
      "cell_type": "code",
      "source": [
        "# Compute inverse of metric\n",
        "def g_inv(G):\n",
        "  G_inv = torch.inverse(G).to(device)\n",
        "  return(G_inv)"
      ],
      "metadata": {
        "id": "ojAW1x2VIvR_"
      },
      "execution_count": 185,
      "outputs": []
    },
    {
      "cell_type": "code",
      "source": [
        "# Get partial derivatives of metric\n",
        "def get_partials_g(G, uv):\n",
        "  partials_g = torch.zeros(size=(2,2,N,2)).to(device)\n",
        "  for i in range(2):\n",
        "    for j in range(2):\n",
        "      partial_g_ij = torch.autograd.grad(G[:,i,j].sum(), uv, create_graph=True)[0][:,:]\n",
        "      partials_g[i,j,:,:] = partial_g_ij\n",
        "  return partials_g"
      ],
      "metadata": {
        "id": "uCQPgDKdIvVE"
      },
      "execution_count": 186,
      "outputs": []
    },
    {
      "cell_type": "code",
      "source": [
        "# Get partial derivatives of inverse of metric\n",
        "def get_inv_partials_g(G_inv, uv):\n",
        "  inv_partials_g = torch.zeros(size=(2,2,N,2)).to(device)\n",
        "  for i in range(2):\n",
        "    for j in range(2):\n",
        "      inv_partial_g_ij = torch.autograd.grad(G_inv[:,i,j].sum(), uv, create_graph=True)[0][:,:]\n",
        "      inv_partials_g[i,j,:,:] = inv_partial_g_ij\n",
        "  return inv_partials_g"
      ],
      "metadata": {
        "id": "rB7pdKpuIvYt"
      },
      "execution_count": 187,
      "outputs": []
    },
    {
      "cell_type": "code",
      "source": [
        "# Get second order partial derivatives of metric\n",
        "def get_second_partials_g(partials_g, uv):\n",
        "  second_partials_g = torch.zeros(size=(2,2,N,2,2)).to(device)\n",
        "  for k in range(2):\n",
        "    for i in range(2):\n",
        "      for j in range(2):\n",
        "        second_partial_g_ij = torch.autograd.grad(partials_g[i,j,:,k].sum(), uv, create_graph=True)[0][:,:]\n",
        "        second_partials_g[i,j,:,k,:] = second_partial_g_ij # Last two indices are first derivative index, then second derivative index\n",
        "  return second_partials_g"
      ],
      "metadata": {
        "id": "j0FQJZlrIvcl"
      },
      "execution_count": 188,
      "outputs": []
    },
    {
      "cell_type": "code",
      "source": [
        "# Get Christoffel symbols\n",
        "def get_Christoffel_symbols(partials_g, G_inv):\n",
        "  Gamma = torch.zeros(size=(N,2,2,2)).to(device)\n",
        "  for l in range(2):\n",
        "    for i in range(2):\n",
        "      for j in range(2):\n",
        "        Gamma_l_ij = 0\n",
        "        for k in range(2):\n",
        "          partial_j_g_ik = partials_g[i,k,:,j]\n",
        "          partial_k_g_ij = partials_g[i,j,:,k]\n",
        "          partial_i_g_kj = partials_g[k,j,:,i]\n",
        "\n",
        "          Gamma_l_ij = Gamma_l_ij + (1/2) * (G_inv[:,k,l]) * (partial_j_g_ik - partial_k_g_ij + partial_i_g_kj)\n",
        "\n",
        "        Gamma[:,l,i,j] = Gamma_l_ij\n",
        "\n",
        "  return Gamma"
      ],
      "metadata": {
        "id": "iJcJuU7aIvgF"
      },
      "execution_count": 189,
      "outputs": []
    },
    {
      "cell_type": "code",
      "source": [
        "# Get Riemannian tensor\n",
        "def get_Riemannian_tensor(Gamma, partials_g, G_inv, inv_partials_g, second_partials_g):\n",
        "  R_l_ijk = torch.zeros(size=(N,2,2,2,2)).to(device)\n",
        "  for l in range(2):\n",
        "    for i in range(2):\n",
        "      for j in range(2):\n",
        "        for k in range(2):\n",
        "\n",
        "          partial_j_Gamma_l_ik = 0\n",
        "          for p in range(2):\n",
        "            partial_j_Gamma_l_ik = (1/2) * (inv_partials_g[p,l,:,j]) * (partials_g[i,p,:,k] - partials_g[i,k,:,p] + partials_g[p,k,:,i]) \\\n",
        "                                  + (1/2) * (G_inv[:,p,l])  * (second_partials_g[i,p,:,k,j] - second_partials_g[i,k,:,p,j] + second_partials_g[p,k,:,i,j]) \\\n",
        "                                  + partial_j_Gamma_l_ik\n",
        "\n",
        "          partial_k_Gamma_l_ij = 0\n",
        "          for p in range(2):\n",
        "            partial_k_Gamma_l_ij = (1/2) * (inv_partials_g[p,l,:,k]) * (partials_g[i,p,:,j] - partials_g[i,j,:,p] + partials_g[p,j,:,i]) \\\n",
        "                                  + (1/2) * (G_inv[:,p,l])  * (second_partials_g[i,p,:,j,k] - second_partials_g[i,j,:,p,k] + second_partials_g[p,j,:,i,k]) \\\n",
        "                                  + partial_k_Gamma_l_ij\n",
        "\n",
        "          Gamma_sum = 0\n",
        "          for p in range(2):\n",
        "            Gamma_sum = Gamma[:,p,i,k]*Gamma[:,l,p,j] - Gamma[:,p,i,j]*Gamma[:,l,p,k] + Gamma_sum\n",
        "\n",
        "          R_l_ijk[:,l,i,j,k] = partial_j_Gamma_l_ik - partial_k_Gamma_l_ij + Gamma_sum\n",
        "\n",
        "  return R_l_ijk"
      ],
      "metadata": {
        "id": "bMJ4uNT-Ivj3"
      },
      "execution_count": 190,
      "outputs": []
    },
    {
      "cell_type": "code",
      "source": [
        "# Get Ricci tensor\n",
        "def get_Ricci_tensor(R_l_ijk):\n",
        "\n",
        "  Ricci_tensor = torch.zeros(size=(N,2,2)).to(device)\n",
        "  for i in range(2):\n",
        "    for j in range(2):\n",
        "      for l in range(2):\n",
        "        Ricci_tensor[:,i,j] = Ricci_tensor[:,i,j] + R_l_ijk[:,l,i,l,j]\n",
        "\n",
        "  return Ricci_tensor"
      ],
      "metadata": {
        "id": "276C0uP_IvnV"
      },
      "execution_count": 191,
      "outputs": []
    },
    {
      "cell_type": "code",
      "source": [],
      "metadata": {
        "id": "R7-FmWNVIvq8"
      },
      "execution_count": null,
      "outputs": []
    },
    {
      "cell_type": "code",
      "source": [
        "# Create loss function between the metric neural network and the computed metric with the encoder\n",
        "\n",
        "def loss_metric_func(g, encoder, parameterization, U, tau):\n",
        "\n",
        "  # Compute representation onto the domain of the manifold\n",
        "  uv = parameterization(U)\n",
        "\n",
        "  # Compute g neural network output\n",
        "  g_rep = g(uv, tau)\n",
        "\n",
        "  # Compute matrix inner product\n",
        "  # < partial_j E (u_i), partial_k E (u_i) >\n",
        "  inner_product_matrix = metric_of_encoder(encoder, uv, tau)\n",
        "\n",
        "  # Compute difference matrix\n",
        "  diff = g_rep - inner_product_matrix\n",
        "\n",
        "  # Return loss, which is a scaled matrix norm\n",
        "  loss = (1/torch.numel(diff))*torch.norm(diff)**2\n",
        "  return loss"
      ],
      "metadata": {
        "id": "3X0PjRyOIvuD"
      },
      "execution_count": 192,
      "outputs": []
    },
    {
      "cell_type": "code",
      "source": [
        "# Create loss function from ricci flow\n",
        "\n",
        "def loss_ricci_func(g, uv, tau):\n",
        "\n",
        "  # Evaluate ricci metric NN\n",
        "  G = g(uv, tau)\n",
        "\n",
        "  # Compute time derivative of each metric coefficient\n",
        "  g_t = torch.zeros(size=(N,2,2)).to(device)\n",
        "  for row in range(G.size(dim=1)):\n",
        "    for col in range(G.size(dim=2)):\n",
        "      g_t[:,row,col] = torch.autograd.grad(G[:,row,col].sum(), tau, create_graph=True)[0][:,0]\n",
        "\n",
        "  # Compute ricci term\n",
        "  G_inv = g_inv(G).to(device)\n",
        "  partials_g = get_partials_g(G, uv)\n",
        "  inv_partials_g = get_inv_partials_g(G_inv, uv)\n",
        "  second_partials_g = get_second_partials_g(partials_g, uv)\n",
        "  Gamma = get_Christoffel_symbols(partials_g, G_inv)\n",
        "  R_l_ijk = get_Riemannian_tensor(Gamma, partials_g, G_inv, inv_partials_g, second_partials_g)\n",
        "  Ricci_tensor = get_Ricci_tensor(R_l_ijk)\n",
        "\n",
        "  # Difference matrix\n",
        "  diff = g_t + 2*Ricci_tensor\n",
        "\n",
        "  # Return loss\n",
        "  loss = (1/torch.numel(diff))*torch.norm(diff)**2\n",
        "  return loss"
      ],
      "metadata": {
        "id": "EhN-WLWdIvyD"
      },
      "execution_count": 193,
      "outputs": []
    },
    {
      "cell_type": "code",
      "source": [
        "# Create loss function to evaluate decoded function output loss\n",
        "\n",
        "def loss_dec_func(encoder, decoder, parameterization, U, V, tau):\n",
        "\n",
        "  # Compute representation onto the domain for the manifold\n",
        "  uv = parameterization(U)\n",
        "  # Compute encoded representation on the manifold\n",
        "  enc_rep = encoder(uv, tau)\n",
        "  # Compute decoded representation that is the output function\n",
        "  dec_rep = decoder(enc_rep)\n",
        "\n",
        "  # Difference matrix\n",
        "  diff = dec_rep - V\n",
        "\n",
        "  # Return loss\n",
        "  loss = (1/torch.numel(diff))*torch.norm(diff)**2\n",
        "  return loss"
      ],
      "metadata": {
        "id": "Qzv05HRPIv1X"
      },
      "execution_count": 194,
      "outputs": []
    },
    {
      "cell_type": "code",
      "source": [],
      "metadata": {
        "id": "Kz_A87W8Iv4y"
      },
      "execution_count": null,
      "outputs": []
    },
    {
      "cell_type": "code",
      "source": [
        "# Training algorithm\n",
        "\n",
        "num_iter = 100000 # Number of iterations. Can be taken arbitrarily large\n",
        "# Training can be finished by stopping with sufficient convergence\n",
        "\n",
        "N = 1000 # batch size\n",
        "\n",
        "for num in range(num_iter):\n",
        "\n",
        "  I = np.random.randint(0,int(num_samples*N_x),N) # Randomly sample data for batch\n",
        "\n",
        "  uv = parameterization(U[I,:])   # Compute point in parameterization domain\n",
        "  tau = times[I,:]  # Randomly sample times for solution\n",
        "  tau_unif = times_unif[I,:]  # Sample uniform times for physics-informed training\n",
        "\n",
        "\n",
        "  loss_metric = loss_metric_func(g, encoder, parameterization, U[I,:], tau_unif)  # Compute metric loss\n",
        "  loss_ricci = loss_ricci_func(g, uv, tau_unif)  # Compute Ricci flow loss\n",
        "  loss_dec = loss_dec_func(encoder, decoder, parameterization, U[I,:], V[I,:], tau)  # Compute decoded loss\n",
        "\n",
        "  loss = loss_dec + 1*loss_metric + loss_ricci  # Total loss\n",
        "\n",
        "\n",
        "  optimizer.zero_grad()\n",
        "  loss.backward()\n",
        "\n",
        "  torch.nn.utils.clip_grad_value_(parameterization.parameters(), 1.)\n",
        "  torch.nn.utils.clip_grad_value_(g.parameters(), 1.)\n",
        "  torch.nn.utils.clip_grad_value_(encoder.parameters(), 1.)\n",
        "  torch.nn.utils.clip_grad_value_(decoder.parameters(), 1.)\n",
        "\n",
        "  optimizer.step()\n",
        "\n",
        "  if num % 20 == 0:\n",
        "    print(\"Training loss:\", '{:.4e}'.format(loss.data), \"Metric loss:\", '{:.4e}'.format(loss_metric.data), \"Ricci loss:\", '{:.4e}'.format(loss_ricci.data))"
      ],
      "metadata": {
        "id": "lTecPVphaE2V"
      },
      "execution_count": null,
      "outputs": []
    },
    {
      "cell_type": "code",
      "source": [],
      "metadata": {
        "id": "aS11CGFjIv_R"
      },
      "execution_count": null,
      "outputs": []
    },
    {
      "cell_type": "code",
      "source": [],
      "metadata": {
        "id": "tdwBB2BpOV4_"
      },
      "execution_count": null,
      "outputs": []
    },
    {
      "cell_type": "code",
      "source": [
        "# Save newly-trained neural networks to current directory\n",
        "\n",
        "File = \"parameterization.pth\"\n",
        "torch.save(parameterization.state_dict(), File)\n",
        "\n",
        "File = \"g.pth\"\n",
        "torch.save(g.state_dict(), File)\n",
        "\n",
        "File = \"encoder.pth\"\n",
        "torch.save(encoder.state_dict(), File)\n",
        "\n",
        "File = \"decoder.pth\"\n",
        "torch.save(decoder.state_dict(), File)"
      ],
      "metadata": {
        "id": "2qtYFI_COV8i"
      },
      "execution_count": null,
      "outputs": []
    },
    {
      "cell_type": "code",
      "source": [],
      "metadata": {
        "id": "cYLc8De2OWBX"
      },
      "execution_count": null,
      "outputs": []
    },
    {
      "cell_type": "code",
      "source": [],
      "metadata": {
        "id": "DVRsjs5SaI02"
      },
      "execution_count": null,
      "outputs": []
    },
    {
      "cell_type": "code",
      "source": [
        "# Load in Burger's equation data for testing\n",
        "\n",
        "File = \"Burgers_training_and_test.pth.npy\"\n",
        "Burgers_data = np.load(File)"
      ],
      "metadata": {
        "id": "zSXFx-0VQgLw"
      },
      "execution_count": null,
      "outputs": []
    },
    {
      "cell_type": "code",
      "source": [
        "# Randomly sample a solution instance from data tensor\n",
        "rand_sample = np.random.randint(0, np.size(Burgers_data,0), 1)\n",
        "u = Burgers_data[rand_sample,:,:].squeeze()\n",
        "\n",
        "# Prepre temporal mesh. We declared this earlier, but in case the training code was not run\n",
        "Lt = 1.0\n",
        "dt = 0.01\n",
        "N_t = int(Lt/dt)\n",
        "T = np.linspace(0,Lt,N_t)"
      ],
      "metadata": {
        "id": "GrZahhyCQgPb"
      },
      "execution_count": 201,
      "outputs": []
    },
    {
      "cell_type": "code",
      "source": [
        "# Observe test data\n",
        "\n",
        "# Test time\n",
        "time = 0.5\n",
        "index = int(time*100)  # Must be an integer, as we extract the time based on the index\n",
        "\n",
        "# Prepare data for NN input\n",
        "T0 = T[index]*np.ones(shape=(N_x))\n",
        "tau0 = torch.from_numpy(T[index]*np.ones(shape=(1))).type(torch.float32).to(device).unsqueeze(dim=0)\n",
        "U_test_np = np.zeros(shape=(1,N_x))\n",
        "U_test_np[0,0:N_x] = u[:,0]\n",
        "U_test = torch.tensor(U_test_np, requires_grad=True).type(torch.float32).to(device)\n",
        "\n",
        "# Pass into networks\n",
        "uv_test = parameterization(U_test)\n",
        "enc_test = encoder(uv_test, tau0)\n",
        "dec_test = decoder(enc_test)\n",
        "\n",
        "# Plot results\n",
        "plt.plot(u[:,index], color='darkorange', linewidth=3)\n",
        "plt.plot(dec_test.squeeze().cpu().detach().numpy(), color='green', linestyle='dashed', linewidth=3)"
      ],
      "metadata": {
        "colab": {
          "base_uri": "https://localhost:8080/",
          "height": 447
        },
        "id": "NYVRcU0QOWH2",
        "outputId": "e242da9f-0270-4ed2-e92c-79b1835ec751"
      },
      "execution_count": 202,
      "outputs": [
        {
          "output_type": "execute_result",
          "data": {
            "text/plain": [
              "[<matplotlib.lines.Line2D at 0x78648a539390>]"
            ]
          },
          "metadata": {},
          "execution_count": 202
        },
        {
          "output_type": "display_data",
          "data": {
            "text/plain": [
              "<Figure size 640x480 with 1 Axes>"
            ],
            "image/png": "[encoded data removed]"
          },
          "metadata": {}
        }
      ]
    },
    {
      "cell_type": "code",
      "source": [],
      "metadata": {
        "id": "KdSJw_m7OWLI"
      },
      "execution_count": null,
      "outputs": []
    },
    {
      "cell_type": "code",
      "source": [
        "# Declare function to view 2d heatmap of solution\n",
        "\n",
        "def heatmap2d(u):\n",
        "  fig, ax = plt.subplots(nrows=1, ncols=1, figsize=(5, 5))\n",
        "  ax.set_axis_off()\n",
        "  im = ax.imshow(u[:,:], cmap='YlGnBu')\n",
        "  fig.subplots_adjust(bottom=0.1, top=0.9, left=0.1, right=0.8,\n",
        "                    wspace=0.3, hspace=0.3)\n",
        "  cb_ax = fig.add_axes([0.83, 0.15, 0.04, 0.7])\n",
        "  cbar = fig.colorbar(im, cax=cb_ax)\n",
        "  plt.savefig('Burgers_eq_test.png', dpi=300)\n",
        "  plt.show()"
      ],
      "metadata": {
        "id": "YbHOMBZsOWOn"
      },
      "execution_count": 203,
      "outputs": []
    },
    {
      "cell_type": "code",
      "source": [
        "# View solution as 2d in space and time together\n",
        "\n",
        "u_solution_test_2d = np.zeros(shape=(N_x,N_t))\n",
        "for i in range(N_t):\n",
        "  tau0 = torch.from_numpy(T[i]*np.ones(shape=(1))).type(torch.float32).to(device).unsqueeze(dim=0)\n",
        "  U_test_np = np.zeros(shape=(1,N_x))\n",
        "  U_test_np[0,0:N_x] = u[:,0]\n",
        "  U_test = torch.tensor(U_test_np, requires_grad=True).type(torch.float32).to(device)\n",
        "\n",
        "  uv_test = parameterization(U_test)\n",
        "  enc_test = encoder(uv_test, tau0)\n",
        "  dec_test = decoder(enc_test)\n",
        "  u_solution_test_2d[:,i] = dec_test.cpu().detach().numpy()"
      ],
      "metadata": {
        "id": "Nj0VDq9sOdX9"
      },
      "execution_count": 204,
      "outputs": []
    },
    {
      "cell_type": "code",
      "source": [
        "# Ricci flow test solution\n",
        "heatmap2d(u_solution_test_2d)"
      ],
      "metadata": {
        "colab": {
          "base_uri": "https://localhost:8080/",
          "height": 387
        },
        "id": "KJ6RfGkfOdbG",
        "outputId": "88c0cf7f-d521-430f-d873-97170253d6fa"
      },
      "execution_count": 205,
      "outputs": [
        {
          "output_type": "display_data",
          "data": {
            "text/plain": [
              "<Figure size 500x500 with 2 Axes>"
            ],
            "image/png": "[encoded data removed]"
          },
          "metadata": {}
        }
      ]
    },
    {
      "cell_type": "code",
      "source": [
        "# Reference solution\n",
        "heatmap2d(u)"
      ],
      "metadata": {
        "colab": {
          "base_uri": "https://localhost:8080/",
          "height": 387
        },
        "id": "o-dJHW4oOgzl",
        "outputId": "375c3458-a858-4592-911d-867416c233f3"
      },
      "execution_count": 206,
      "outputs": [
        {
          "output_type": "display_data",
          "data": {
            "text/plain": [
              "<Figure size 500x500 with 2 Axes>"
            ],
            "image/png": "[encoded data removed]"
          },
          "metadata": {}
        }
      ]
    },
    {
      "cell_type": "code",
      "source": [],
      "metadata": {
        "id": "KzqkvdH-Og28"
      },
      "execution_count": null,
      "outputs": []
    },
    {
      "cell_type": "code",
      "source": [],
      "metadata": {
        "id": "GMj7NMFAOg6B"
      },
      "execution_count": null,
      "outputs": []
    }
  ]
}